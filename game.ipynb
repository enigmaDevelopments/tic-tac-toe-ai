{
 "cells": [
  {
   "cell_type": "code",
   "execution_count": null,
   "metadata": {},
   "outputs": [],
   "source": [
    "positions = (2,7,6,\n",
    "             9,5,1,\n",
    "             4,3,8)"
   ]
  },
  {
   "cell_type": "code",
   "execution_count": null,
   "metadata": {},
   "outputs": [],
   "source": [
    "def getBoard(p1,p2):\n",
    "    global positions\n",
    "    board = \"\"\n",
    "    for i in range(9):\n",
    "        pos = positions[i]\n",
    "        if pos in p1:\n",
    "            board += 'O'\n",
    "        elif pos in p2:\n",
    "            board += 'X'\n",
    "        else:\n",
    "            board += str(i+1)\n",
    "        if i%3 == 2:\n",
    "            board +='\\n'\n",
    "    return board"
   ]
  },
  {
   "cell_type": "code",
   "execution_count": null,
   "metadata": {},
   "outputs": [],
   "source": [
    "def finished(p):\n",
    "    c = p.copy()\n",
    "    for i in p:\n",
    "        c.remove(i)\n",
    "        for j in c:\n",
    "            find = 15 - i - j\n",
    "            if find in c and find != j:\n",
    "                return True\n",
    "    return False"
   ]
  },
  {
   "cell_type": "code",
   "execution_count": null,
   "metadata": {},
   "outputs": [],
   "source": [
    "def tie(p1,p2):\n",
    "    return len(p1) + len(p2) == 9"
   ]
  },
  {
   "cell_type": "code",
   "execution_count": null,
   "metadata": {},
   "outputs": [],
   "source": [
    "def states(p1, p2):\n",
    "    states = set(range(1,10))\n",
    "    states -= p1 | p2\n",
    "    return states\n",
    "states ({1,3,4},{9,8,7})\n"
   ]
  },
  {
   "cell_type": "code",
   "execution_count": null,
   "metadata": {},
   "outputs": [],
   "source": [
    "def minMax(p1,p2,isP1Turn,alpha,beta):\n",
    "    if finished(p1):\n",
    "        return -1\n",
    "    if finished(p2):\n",
    "        return 1\n",
    "    if tie(p1,p2):\n",
    "        return 0\n",
    "    if isP1Turn:\n",
    "        best = 2\n",
    "        for move in states(p1,p2):\n",
    "            value = minMax(p1|{move},p2,False,alpha,beta)\n",
    "            if value < best:\n",
    "                best = value\n",
    "                if best < beta:\n",
    "                    beta = best\n",
    "                    if beta <= alpha:\n",
    "                        return best\n",
    "        return best\n",
    "    else:\n",
    "        best = -2\n",
    "        for move in states(p1,p2):\n",
    "            value = minMax(p1,p2|{move},True,alpha,beta)\n",
    "            if value > best:\n",
    "                best = value\n",
    "                if best > alpha:\n",
    "                    alpha = best\n",
    "                    if beta <= alpha:\n",
    "                        return best\n",
    "        return best"
   ]
  },
  {
   "cell_type": "code",
   "execution_count": null,
   "metadata": {},
   "outputs": [],
   "source": [
    "def bot(p1,p2):\n",
    "    best = -2\n",
    "    bestMove = None\n",
    "    for move in states(p1,p2):\n",
    "        value = minMax(p1,p2|{move},True,-2,2)\n",
    "        if value > best:\n",
    "            best = value\n",
    "            bestMove = move\n",
    "            if best == 1:\n",
    "                return bestMove\n",
    "    return bestMove"
   ]
  },
  {
   "cell_type": "code",
   "execution_count": null,
   "metadata": {},
   "outputs": [],
   "source": [
    "from random import choice\n",
    "p1 = set()\n",
    "p2 = set()\n",
    "if choice((True,False)):\n",
    "    p2.add(bot(p1,p2))\n",
    "while not (finished(p1) or finished(p2)):\n",
    "    print (getBoard(p1,p2))\n",
    "    inp = input(\"input a vaild move\")\n",
    "    if not inp.isdigit():\n",
    "        continue\n",
    "    inp = int(inp)-1\n",
    "    if not inp in range(9):\n",
    "        continue\n",
    "    if positions[inp] in p1 or positions[inp] in p2:\n",
    "        continue\n",
    "    p1.add(positions[inp])\n",
    "    if tie(p1,p2):\n",
    "        break\n",
    "    p2.add(bot(p1,p2))\n",
    "print (getBoard(p1,p2))\n"
   ]
  }
 ],
 "metadata": {
  "kernelspec": {
   "display_name": "Python 3",
   "language": "python",
   "name": "python3"
  },
  "language_info": {
   "codemirror_mode": {
    "name": "ipython",
    "version": 3
   },
   "file_extension": ".py",
   "mimetype": "text/x-python",
   "name": "python",
   "nbconvert_exporter": "python",
   "pygments_lexer": "ipython3",
   "version": "3.11.9"
  }
 },
 "nbformat": 4,
 "nbformat_minor": 2
}
