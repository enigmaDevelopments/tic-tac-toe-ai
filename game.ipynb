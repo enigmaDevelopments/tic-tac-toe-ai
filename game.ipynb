{
 "cells": [
  {
   "cell_type": "code",
   "execution_count": 5,
   "metadata": {},
   "outputs": [],
   "source": [
    "positions = (2,7,6,9,5,1,4,3,8)"
   ]
  },
  {
   "cell_type": "code",
   "execution_count": 6,
   "metadata": {},
   "outputs": [],
   "source": [
    "def get_board(p1,p2):\n",
    "    global positions\n",
    "    board = \"\"\n",
    "    for i in range(9):\n",
    "        pos = positions[i]\n",
    "        if pos in p1:\n",
    "            board += 'O'\n",
    "        elif pos in p2:\n",
    "            board += 'X'\n",
    "        else:\n",
    "            board += str(i+1)\n",
    "        if i%3 == 2:\n",
    "            board +='\\n'\n",
    "    return board"
   ]
  },
  {
   "cell_type": "code",
   "execution_count": 7,
   "metadata": {},
   "outputs": [],
   "source": [
    "def finished(p):\n",
    "    for i in p:\n",
    "        for j in p:\n",
    "            find = 15 - i - j\n",
    "            if find != i and find != j and i != j and find in p:\n",
    "                return True\n",
    "    return False"
   ]
  },
  {
   "cell_type": "code",
   "execution_count": null,
   "metadata": {},
   "outputs": [],
   "source": [
    "p1 = p2 = set()\n",
    "while not finished(p1) and not finished(p2):\n",
    "    print (get_board(p1,p2))\n",
    "    inp = input(\"input a vaild move\")\n",
    "    if not inp.isdigit():\n",
    "        continue\n",
    "    inp = int(inp)-1\n",
    "    if not inp in range(9):\n",
    "        continue\n",
    "    if positions[inp] in p1:\n",
    "        continue\n",
    "    p1.add(positions[inp])\n",
    "print (get_board(p1,p2))\n"
   ]
  }
 ],
 "metadata": {
  "kernelspec": {
   "display_name": "Python 3",
   "language": "python",
   "name": "python3"
  },
  "language_info": {
   "codemirror_mode": {
    "name": "ipython",
    "version": 3
   },
   "file_extension": ".py",
   "mimetype": "text/x-python",
   "name": "python",
   "nbconvert_exporter": "python",
   "pygments_lexer": "ipython3",
   "version": "3.11.9"
  }
 },
 "nbformat": 4,
 "nbformat_minor": 2
}
